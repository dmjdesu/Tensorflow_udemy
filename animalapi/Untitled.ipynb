{
 "cells": [
  {
   "cell_type": "code",
   "execution_count": 4,
   "metadata": {},
   "outputs": [],
   "source": [
    "from PIL import Image\n",
    "import os, glob\n",
    "import numpy as np\n",
    "from sklearn import cross_validation\n",
    "\n",
    "classes = ['monkey','boar','crow']\n",
    "num_classes = len(classes)\n",
    "image_size = 50\n",
    "\n",
    "x =[]\n",
    "y = []\n",
    "for index, classlabel in enumerate(classes):\n",
    "\tphotos_dir = './' + classlabel\n",
    "\tfiles = glob.glob(photos_dir + \"/*.jpg\")\n",
    "\tfor i,file in enumerate(files):\n",
    "\t\tif i >= 200: break\n",
    "\t\timage = Image.open(file)\n",
    "\t\timage = image.convert(\"RGB\")\n",
    "\t\timage = image.resize((image_size, image_size))\n",
    "\t\tdata = np.asarray(image)\n",
    "\t\tx.append(data)\n",
    "\t\ty.append(index)\n",
    "\n",
    "\n",
    "\n",
    "X = np.asarray(x)\n",
    "Y = np.asarray(y)\n",
    "\n"
   ]
  },
  {
   "cell_type": "code",
   "execution_count": 7,
   "metadata": {},
   "outputs": [
    {
     "data": {
      "text/plain": [
       "300"
      ]
     },
     "execution_count": 7,
     "metadata": {},
     "output_type": "execute_result"
    }
   ],
   "source": [
    "len(X)"
   ]
  },
  {
   "cell_type": "code",
   "execution_count": null,
   "metadata": {
    "collapsed": true
   },
   "outputs": [],
   "source": []
  }
 ],
 "metadata": {
  "kernelspec": {
   "display_name": "Python 3",
   "language": "python",
   "name": "python3"
  },
  "language_info": {
   "codemirror_mode": {
    "name": "ipython",
    "version": 3
   },
   "file_extension": ".py",
   "mimetype": "text/x-python",
   "name": "python",
   "nbconvert_exporter": "python",
   "pygments_lexer": "ipython3",
   "version": "3.6.2"
  }
 },
 "nbformat": 4,
 "nbformat_minor": 2
}
